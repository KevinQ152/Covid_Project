{
 "cells": [
  {
   "cell_type": "code",
   "execution_count": 1,
   "metadata": {},
   "outputs": [],
   "source": [
    "import os\n",
    "import glob\n",
    "import re\n",
    "import pandas as pd\n",
    "import datetime as dt\n",
    "import random\n",
    "import numpy as np\n",
    "from sklearn.datasets import make_regression\n",
    "from sklearn.isotonic import IsotonicRegression\n",
    "import copy\n",
    "\n",
    "# Note: I put lmafit inside src/ to make things easier for right now\n",
    "from lmafit import lmafit_mc_adp"
   ]
  },
  {
   "cell_type": "code",
   "execution_count": 2,
   "metadata": {},
   "outputs": [],
   "source": [
    "# import all the data\n",
    "cwd = os.getcwd()\n",
    "par = os.path.join(cwd, os.pardir)\n",
    "par = os.path.abspath(par)\n",
    "parpar = os.path.join(par, os.pardir)\n",
    "parpar = os.path.abspath(parpar)\n",
    "nyt_datapath = os.path.join(par, 'UniversityCases', '')\n",
    "big10_datapath = os.path.join(parpar, 'college-covid19-dataset', 'data', '')\n",
    "\n",
    "fnames = sorted(glob.glob(nyt_datapath+'*.csv'))\n",
    "frames = []\n",
    "for f in fnames:\n",
    "    #m = re.search(r'[^0-9]*([0-9][0-9_]+)[^0-9]*', f)\n",
    "    df = pd.read_csv(f)\n",
    "    \n",
    "    #df['Date'] = pd.to_datetime(m.group(1), format='%m_%d_%y')\n",
    "    df['Date'] = pd.to_datetime(df['Date'], format='%m-%d-%Y')\n",
    "    \n",
    "    df.drop(['Unnamed: 0'], axis = 1, inplace=True)\n",
    "    df['Cases'] = df['Cases'].apply(lambda x: x.replace(',', '')).astype('int')\n",
    "    frames.append(df)\n",
    "    \n",
    "nyt_df = pd.concat(frames)\n",
    "\n",
    "big10_df = pd.read_csv(os.path.join(big10_datapath, 'daily.csv'))\n",
    "old_cols = big10_df.columns.values.copy()\n",
    "old_cols[0] = 'School'\n",
    "big10_df.columns = old_cols\n",
    "big10_df['Date'] = pd.to_datetime(big10_df['Date'],format='%Y-%m-%d')"
   ]
  },
  {
   "cell_type": "code",
   "execution_count": 3,
   "metadata": {},
   "outputs": [],
   "source": [
    "nyt_df = nyt_df.sort_values('Date')\n",
    "big10_df = big10_df.sort_values('Date')"
   ]
  },
  {
   "cell_type": "code",
   "execution_count": 4,
   "metadata": {},
   "outputs": [],
   "source": [
    "nyt_df = nyt_df.drop_duplicates(subset = ['School','Cases'])"
   ]
  },
  {
   "cell_type": "markdown",
   "metadata": {},
   "source": [
    "### Combine NYT and Big 10"
   ]
  },
  {
   "cell_type": "code",
   "execution_count": 5,
   "metadata": {},
   "outputs": [],
   "source": [
    "# find list of schools\n",
    "schools = list(pd.unique(nyt_df.School))\n",
    "# NOTE: something I noticed is that some of the schools have less data points than the others. Not sure why.\n",
    "\n",
    "# Create an index with dates between september 8 (start of NYT collection) and today\n",
    "start_day = dt.datetime(2020, 9, 8)\n",
    "indexer = {}\n",
    "c = 0\n",
    "while start_day < dt.datetime.today():\n",
    "    indexer[c] = start_day\n",
    "    start_day = start_day + dt.timedelta(days = 1)\n",
    "    c += 1\n",
    "\n",
    "name_translator = {'University of Illinois Urbana-Champaign':'Illinois',\n",
    "                    'Indiana University Bloomington':'Indiana', \n",
    "                    'University of Iowa':'Iowa',\n",
    "                    'University of Maryland, College Park':'Maryland',\n",
    "                    'Michigan State University':'Michigan State',\n",
    "                    'University of Minnesota Twin Cities':'Minnesota',\n",
    "                    'Northwestern University':'Northwestern',\n",
    "                    'Ohio State University':'Ohio State',\n",
    "                    'Penn State University':'Penn State',\n",
    "                    'University of Wisconsin-Madison':'UW-Madison',\n",
    "                    'University of Michigan':'Michigan',\n",
    "                    'University of Nebraska-Lincoln':'Nebraska', \n",
    "                    'Purdue University':'Purdue',\n",
    "                    'Rutgers University':'Rutgers'}\n",
    "\n",
    "for i in name_translator.keys():\n",
    "    schools.remove(i)"
   ]
  },
  {
   "cell_type": "code",
   "execution_count": 6,
   "metadata": {},
   "outputs": [],
   "source": [
    "strindex = [dt.datetime.strftime(indexer[i], '%Y-%m-%d') for i in indexer]\n",
    "date_index = {indexer[j]:j for j in range(len(indexer))}\n",
    "data_dict = {}\n",
    "\n",
    "# Add all the big 10 schools\n",
    "for i in name_translator.values():\n",
    "    cases = [0 for i in range(len(indexer))]\n",
    "    school = big10_df.loc[big10_df.School == i]\n",
    "    for j in school.Date:\n",
    "        if j >= dt.datetime(2020,9,8):\n",
    "            to_index = date_index[j]\n",
    "            cases[to_index] = school.loc[school.Date == j].Confirmed.iloc[0]\n",
    "        \n",
    "    data_dict[i] = cases\n",
    "\n",
    "\n",
    "# Add all the NYT\n",
    "for i in schools:\n",
    "    cases = [0 for i in range(len(indexer))]\n",
    "    school = nyt_df.loc[nyt_df.School == i]\n",
    "    for j in school.Date:\n",
    "        to_index = date_index[j]\n",
    "        cases[to_index] = school.loc[school.Date == j].Cases.iloc[0]\n",
    "        \n",
    "    data_dict[i] = cases\n",
    "    "
   ]
  },
  {
   "cell_type": "markdown",
   "metadata": {},
   "source": [
    "### Drop all Zero columns"
   ]
  },
  {
   "cell_type": "code",
   "execution_count": 7,
   "metadata": {},
   "outputs": [],
   "source": [
    "incomplete_matr = pd.DataFrame.from_dict(data_dict)\n",
    "no_zero = incomplete_matr.loc[(incomplete_matr!=0).any(axis=1)]\n",
    "dates_used = no_zero.index\n",
    "schools_used = no_zero.columns\n",
    "\n",
    "# Transpose to make things easier\n",
    "arr = no_zero.T.values.tolist()"
   ]
  },
  {
   "cell_type": "markdown",
   "metadata": {},
   "source": [
    "### Randomly hide some of the dates/schools"
   ]
  },
  {
   "cell_type": "code",
   "execution_count": 8,
   "metadata": {},
   "outputs": [],
   "source": [
    "def hide_date(matrix, percent):\n",
    "    # returns a copy of the original matrix with x percent of the dates hidden\n",
    "    mat = copy.deepcopy(matrix)\n",
    "    num_hide = int(len(mat[0])*percent)\n",
    "\n",
    "    date_ind = range(len(mat[0]))\n",
    "    to_hide = random.sample(date_ind, num_hide)\n",
    "    to_hide.sort(reverse = True)\n",
    "    \n",
    "    for s in mat:\n",
    "        for t in to_hide:\n",
    "            s.pop(t)\n",
    "    \n",
    "    return mat\n",
    "\n",
    "def hide_school(matrix, percent):\n",
    "    # returns a copy of the original matrix with x percent of the schools hidden\n",
    "    mat = copy.deepcopy(matrix)\n",
    "    num_hide = int(len(mat)*percent)\n",
    "    \n",
    "    school_ind = range(len(mat))\n",
    "    to_hide = random.sample(school_ind, num_hide)\n",
    "    to_hide.sort(reverse = True)\n",
    "    \n",
    "    for t in to_hide:\n",
    "        mat.pop(t)\n",
    "    \n",
    "    return mat\n",
    "    "
   ]
  },
  {
   "cell_type": "code",
   "execution_count": 9,
   "metadata": {},
   "outputs": [],
   "source": [
    "#arr = hide_date(arr, 0.5)\n",
    "#arr = hide_school(arr, 0.2)"
   ]
  },
  {
   "cell_type": "markdown",
   "metadata": {},
   "source": [
    "### Test if the matrix is row increasing "
   ]
  },
  {
   "cell_type": "code",
   "execution_count": 10,
   "metadata": {},
   "outputs": [],
   "source": [
    "def is_inc(matrix, printy=True):\n",
    "    # matrix is a 2d array\n",
    "    # matrix[0] is the first school\n",
    "    # NOTE: That is the transpose of what I'm using elsewhere\n",
    "    #       just to make things easier\n",
    "    \n",
    "    non_inc = {}\n",
    "    for i in range(len(matrix)):\n",
    "        last = matrix[i][0]\n",
    "        spots = []\n",
    "        for j in range(len(matrix[0])):\n",
    "            if matrix[i][j] != 0 and not np.isnan(matrix[i][j]):\n",
    "                if matrix[i][j] < last:\n",
    "                    spots.append(j)\n",
    "                last = matrix[i][j]\n",
    "        \n",
    "        if len(spots) != 0:\n",
    "            non_inc[i] = spots\n",
    "        \n",
    "    if printy == True:\n",
    "        print(str(len(non_inc)) + \" schools are non increasing in at least one spot\")\n",
    "    return non_inc"
   ]
  },
  {
   "cell_type": "code",
   "execution_count": 11,
   "metadata": {},
   "outputs": [
    {
     "name": "stdout",
     "output_type": "stream",
     "text": [
      "111 schools are non increasing in at least one spot\n",
      "rank 27\n"
     ]
    }
   ],
   "source": [
    "is_inc(arr)\n",
    "print('rank ' + str(np.linalg.matrix_rank(arr)))\n"
   ]
  },
  {
   "cell_type": "code",
   "execution_count": 23,
   "metadata": {},
   "outputs": [],
   "source": [
    "incr = iso(arr)"
   ]
  },
  {
   "cell_type": "markdown",
   "metadata": {},
   "source": [
    "### Run through lmafit"
   ]
  },
  {
   "cell_type": "code",
   "execution_count": 24,
   "metadata": {},
   "outputs": [],
   "source": [
    "# make the arrays needed for lmafit\n",
    "\n",
    "known_seq = [[],[]]\n",
    "known_values = []\n",
    "for i in range(len(incr)):\n",
    "    for j in range(len(incr[0])):\n",
    "        if arr[i][j] != 0:\n",
    "            known_seq[0].append(i)\n",
    "            known_seq[1].append(j)\n",
    "            known_values.append(incr[i][j])\n",
    "\n",
    "known_indices = [tuple(known_seq[0]), tuple(known_seq[1])]\n",
    "known_values = [tuple(known_values)]"
   ]
  },
  {
   "cell_type": "code",
   "execution_count": 28,
   "metadata": {
    "scrolled": true
   },
   "outputs": [
    {
     "name": "stderr",
     "output_type": "stream",
     "text": [
      "C:\\Users\\kq146\\code\\covid_college_tracker\\Covid_data\\src\\lmafit.py:39: FutureWarning: Using a non-tuple sequence for multidimensional indexing is deprecated; use `arr[tuple(seq)]` instead of `arr[seq]`. In the future this will be interpreted as an array index, `arr[np.array(seq)]`, which will result either in an error or a different result.\n",
      "  Z[Known] = data\n"
     ]
    },
    {
     "name": "stdout",
     "output_type": "stream",
     "text": [
      "            0            1            2           3            4     \\\n",
      "0    1846.074430  2019.545951  1747.557995  144.017057  1354.028678   \n",
      "1    1888.048803  2018.692030  1758.848369  143.609443  1345.812773   \n",
      "2    1921.879175  2017.738451  1834.312103  147.530537  1349.654074   \n",
      "3    1952.904719  2025.076127  1822.455897  135.537587  1348.492512   \n",
      "4    1967.378427  2018.735761  1869.967342  169.068657  1348.439185   \n",
      "..           ...          ...          ...         ...          ...   \n",
      "99   4500.834080   -37.833856  3126.228853  842.798885  3710.219712   \n",
      "100  4511.777899   293.584568  2564.334689  856.586596  3708.881526   \n",
      "101  4517.952251   -31.164256    32.919671  870.604583  3710.051710   \n",
      "102  4525.881192   -63.125524  -424.816009  872.045317  3711.002260   \n",
      "103  -909.337599   248.882101   519.210197  879.796749  3710.557629   \n",
      "\n",
      "           5            6            7            8            9     ...  \\\n",
      "0    134.071163    66.923902  1889.308483  1054.426882   641.733219  ...   \n",
      "1    125.735532    82.855019  2042.405026  1053.135291   938.069143  ...   \n",
      "2    125.256698    83.710057  2157.068028  1054.814177  1154.803959  ...   \n",
      "3    146.233818   109.573483  2267.866861  1689.353143  1224.617437  ...   \n",
      "4    146.684128    83.471635  2302.912821  1691.286067  1299.341411  ...   \n",
      "..          ...          ...          ...          ...          ...  ...   \n",
      "99   -37.610267   513.112788    62.268192  5125.086008  3866.683475  ...   \n",
      "100 -549.822201   550.171427  -111.955244  5124.812379  3875.015728  ...   \n",
      "101 -180.059993  1055.939294  -114.860815   137.831375  3881.836830  ...   \n",
      "102 -110.158324  1071.672675  -192.017286   215.518135  3890.703591  ...   \n",
      "103  434.517504   127.923196  -430.974243  -380.227280   436.714736  ...   \n",
      "\n",
      "         1862      1863      1864       1865      1866      1867      1868  \\\n",
      "0   -0.050656 -0.759836 -0.101311 -36.320153 -0.253279 -0.151967 -0.050656   \n",
      "1   -0.098587 -1.478803 -0.197174 -70.686770 -0.492934 -0.295761 -0.098587   \n",
      "2   -0.008527 -0.127909 -0.017055  -6.114055 -0.042636 -0.025582 -0.008527   \n",
      "3    0.102698  1.540471  0.205396  73.634520  0.513490  0.308094  0.102698   \n",
      "4   -0.015716 -0.235741 -0.031432 -11.268417 -0.078580 -0.047148 -0.015716   \n",
      "..        ...       ...       ...        ...       ...       ...       ...   \n",
      "99  -0.027502 -0.412535 -0.055005 -19.719176 -0.137512 -0.082507 -0.027502   \n",
      "100  0.049445  0.741669  0.098889  35.451793  0.247223  0.148334  0.049445   \n",
      "101  0.127969  1.919528  0.255937  91.753436  0.639843  0.383906  0.127969   \n",
      "102 -0.078141 -1.172117 -0.156282 -56.027200 -0.390706 -0.234423 -0.078141   \n",
      "103  0.029281  0.439216  0.058562  20.994511  0.146405  0.087843  0.029281   \n",
      "\n",
      "         1869      1870      1871  \n",
      "0   -0.050656 -1.469016 -3.748523  \n",
      "1   -0.098587 -2.859019 -7.295427  \n",
      "2   -0.008527 -0.247291 -0.631018  \n",
      "3    0.102698  2.978244  7.599658  \n",
      "4   -0.015716 -0.455766 -1.162989  \n",
      "..        ...       ...       ...  \n",
      "99  -0.027502 -0.797568 -2.035173  \n",
      "100  0.049445  1.433894  3.658902  \n",
      "101  0.127969  3.711087  9.469671  \n",
      "102 -0.078141 -2.266093 -5.782445  \n",
      "103  0.029281  0.849150  2.166798  \n",
      "\n",
      "[104 rows x 1872 columns]\n"
     ]
    }
   ],
   "source": [
    "X,Y,out = lmafit_mc_adp(len(incr),len(incr[0]),14,known_indices,known_values)\n",
    "\n",
    "complete = np.dot(X,Y)\n",
    "print(pd.DataFrame(complete).T)"
   ]
  },
  {
   "cell_type": "markdown",
   "metadata": {},
   "source": [
    "### Test for row increasing and do isotonic regression if not"
   ]
  },
  {
   "cell_type": "code",
   "execution_count": 29,
   "metadata": {},
   "outputs": [
    {
     "name": "stdout",
     "output_type": "stream",
     "text": [
      "1872 schools are non increasing in at least one spot\n"
     ]
    }
   ],
   "source": [
    "non_inc = is_inc(complete)"
   ]
  },
  {
   "cell_type": "code",
   "execution_count": 27,
   "metadata": {},
   "outputs": [
    {
     "name": "stdout",
     "output_type": "stream",
     "text": [
      "0 schools are non increasing in at least one spot\n"
     ]
    }
   ],
   "source": [
    "k = is_inc(incr)"
   ]
  },
  {
   "cell_type": "code",
   "execution_count": 15,
   "metadata": {},
   "outputs": [],
   "source": [
    "def iso(matrix):\n",
    "    # performs isotonic regression for every school\n",
    "    tonic = copy.deepcopy(matrix) # returns a new isotonic matrix\n",
    "    \n",
    "    # dat dict tells me where things arent increasing\n",
    "    dat_dict = is_inc(matrix, False)\n",
    "    \n",
    "    for i in dat_dict.keys():\n",
    "        to_predict = dat_dict[i]\n",
    "        leng = len(tonic[0]) - len(to_predict)\n",
    "        initial_vals = list(tonic[i].copy())\n",
    "        X = list(range(len(tonic[i])))\n",
    "\n",
    "        # Use the increasing values to fit the model and then predict what the decreasing ones should be \n",
    "        iso = IsotonicRegression().fit(X,initial_vals)\n",
    "        predictions = iso.predict(range(len(tonic[i])))\n",
    "        \n",
    "        # put everything back:\n",
    "        tonic[i] = predictions\n",
    "    \n",
    "    return(tonic)"
   ]
  },
  {
   "cell_type": "code",
   "execution_count": 16,
   "metadata": {},
   "outputs": [],
   "source": [
    "iso_result = iso(complete)"
   ]
  },
  {
   "cell_type": "code",
   "execution_count": 17,
   "metadata": {},
   "outputs": [
    {
     "name": "stdout",
     "output_type": "stream",
     "text": [
      "0 schools are non increasing in at least one spot\n"
     ]
    },
    {
     "data": {
      "text/plain": [
       "{}"
      ]
     },
     "execution_count": 17,
     "metadata": {},
     "output_type": "execute_result"
    }
   ],
   "source": [
    "is_inc(iso_result)"
   ]
  },
  {
   "cell_type": "code",
   "execution_count": 19,
   "metadata": {},
   "outputs": [
    {
     "name": "stdout",
     "output_type": "stream",
     "text": [
      "        Illinois      Indiana         Iowa  Maryland  Michigan State  \\\n",
      "0    1841.000000  2020.000000  1755.000000     140.0          1348.0   \n",
      "1    1888.000000  2020.000000  1755.000000     142.0          1348.0   \n",
      "2    1922.000000  2020.000000  1831.000000     170.0          1348.0   \n",
      "3    1957.000000  2020.000000  1831.000000     175.0          1348.0   \n",
      "4    1967.000000  2020.000000  1868.000000     175.0          1348.0   \n",
      "..           ...          ...          ...       ...             ...   \n",
      "99   4185.332496  3458.714294  2675.000598     844.0          3710.0   \n",
      "100  4185.332496  3458.714294  2675.000598     847.0          3710.0   \n",
      "101  4185.332496  3458.714294  2675.000598     873.0          3710.0   \n",
      "102  4185.332496  3458.714294  2675.000598     878.0          3710.0   \n",
      "103  4185.332496  3458.714294  2675.000598     886.0          3710.0   \n",
      "\n",
      "      Minnesota  Northwestern   Ohio State   Penn State   UW-Madison  ...  \\\n",
      "0    128.000000     73.000000  1888.000000  1053.000000   647.000000  ...   \n",
      "1    128.000000     92.000000  2044.000000  1053.000000   937.000000  ...   \n",
      "2    128.000000     92.000000  2159.000000  1053.000000  1156.000000  ...   \n",
      "3    147.000000     92.000000  2264.000000  1691.000000  1223.000000  ...   \n",
      "4    147.000000     92.000000  2304.000000  1691.000000  1299.000000  ...   \n",
      "..          ...           ...          ...          ...          ...  ...   \n",
      "99   724.683851    417.817684  4344.973899  4594.210615  3636.667178  ...   \n",
      "100  724.683851    417.817684  4344.973899  4594.210615  3636.667178  ...   \n",
      "101  724.683851    417.817684  4344.973899  4594.210615  3636.667178  ...   \n",
      "102  724.683851    417.817684  4344.973899  4594.210615  3636.667178  ...   \n",
      "103  724.683851    417.817684  4344.973899  4594.210615  3636.667178  ...   \n",
      "\n",
      "     Montana Bible College  Dawson Community College  \\\n",
      "0                -0.003673                 -0.055102   \n",
      "1                -0.003673                 -0.055102   \n",
      "2                -0.003673                 -0.055102   \n",
      "3                -0.003673                 -0.055102   \n",
      "4                -0.003673                 -0.055102   \n",
      "..                     ...                       ...   \n",
      "99                0.111267                  1.669002   \n",
      "100               0.111267                  1.669002   \n",
      "101               0.111267                  1.669002   \n",
      "102               0.111267                  1.669002   \n",
      "103               0.111267                  1.669002   \n",
      "\n",
      "     Pima Medical Institute-Dillon  Ivy Tech. Community College-Indianapolis  \\\n",
      "0                        -0.007347                                 -2.633861   \n",
      "1                        -0.007347                                 -2.633861   \n",
      "2                        -0.007347                                 -2.633861   \n",
      "3                        -0.007347                                 -2.633861   \n",
      "4                        -0.007347                                 -2.633861   \n",
      "..                             ...                                       ...   \n",
      "99                        0.222534                                 79.778298   \n",
      "100                       0.222534                                 79.778298   \n",
      "101                       0.222534                                 79.778298   \n",
      "102                       0.222534                                 79.778298   \n",
      "103                       0.222534                                 79.778298   \n",
      "\n",
      "     Bethany College (Kan.)  Thomas College  Simmons College of Kentucky  \\\n",
      "0                 -0.018367        -0.01102                    -0.003673   \n",
      "1                 -0.018367        -0.01102                    -0.003673   \n",
      "2                 -0.018367        -0.01102                    -0.003673   \n",
      "3                 -0.018367        -0.01102                    -0.003673   \n",
      "4                 -0.018367        -0.01102                    -0.003673   \n",
      "..                      ...             ...                          ...   \n",
      "99                 0.556334         0.33380                     0.111267   \n",
      "100                0.556334         0.33380                     0.111267   \n",
      "101                0.556334         0.33380                     0.111267   \n",
      "102                0.556334         0.33380                     0.111267   \n",
      "103                0.556334         0.33380                     0.111267   \n",
      "\n",
      "     University of Holy Cross  McNeese State University  \\\n",
      "0                   -0.003673                 -0.106530   \n",
      "1                   -0.003673                 -0.106530   \n",
      "2                   -0.003673                 -0.106530   \n",
      "3                   -0.003673                 -0.106530   \n",
      "4                   -0.003673                 -0.106530   \n",
      "..                        ...                       ...   \n",
      "99                   0.111267                  3.226737   \n",
      "100                  0.111267                  3.226737   \n",
      "101                  0.111267                  3.226737   \n",
      "102                  0.111267                  3.226737   \n",
      "103                  0.111267                  3.226737   \n",
      "\n",
      "     Louisiana State University-Eunice  \n",
      "0                            -0.271835  \n",
      "1                            -0.271835  \n",
      "2                            -0.271835  \n",
      "3                            -0.271835  \n",
      "4                            -0.271835  \n",
      "..                                 ...  \n",
      "99                            8.233743  \n",
      "100                           8.233743  \n",
      "101                           8.233743  \n",
      "102                           8.233743  \n",
      "103                           8.233743  \n",
      "\n",
      "[104 rows x 1872 columns]\n"
     ]
    }
   ],
   "source": [
    "fin = pd.DataFrame(iso_result)\n",
    "fin.index = incomplete_matr.columns\n",
    "print(fin.T)"
   ]
  }
 ],
 "metadata": {
  "kernelspec": {
   "display_name": "Python 3",
   "language": "python",
   "name": "python3"
  },
  "language_info": {
   "codemirror_mode": {
    "name": "ipython",
    "version": 3
   },
   "file_extension": ".py",
   "mimetype": "text/x-python",
   "name": "python",
   "nbconvert_exporter": "python",
   "pygments_lexer": "ipython3",
   "version": "3.8.5"
  }
 },
 "nbformat": 4,
 "nbformat_minor": 4
}
