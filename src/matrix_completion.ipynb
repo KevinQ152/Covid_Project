{
 "cells": [
  {
   "cell_type": "code",
   "execution_count": 1,
   "metadata": {},
   "outputs": [],
   "source": [
    "import os\n",
    "import glob\n",
    "import re\n",
    "import pandas as pd\n",
    "import datetime as dt\n",
    "import random\n",
    "import numpy as np\n",
    "from sklearn.datasets import make_regression\n",
    "from sklearn.isotonic import IsotonicRegression\n",
    "import copy\n",
    "\n",
    "# Note: I put lmafit inside src/ to make things easier for right now\n",
    "from lmafit import lmafit_mc_adp"
   ]
  },
  {
   "cell_type": "code",
   "execution_count": 2,
   "metadata": {},
   "outputs": [],
   "source": [
    "# import all the data\n",
    "cwd = os.getcwd()\n",
    "par = os.path.join(cwd, os.pardir)\n",
    "par = os.path.abspath(par)\n",
    "parpar = os.path.join(par, os.pardir)\n",
    "parpar = os.path.abspath(parpar)\n",
    "nyt_datapath = os.path.join(par, 'UniversityCases', '')\n",
    "big10_datapath = os.path.join(parpar, 'college-covid19-dataset', 'data', '')\n",
    "\n",
    "fnames = sorted(glob.glob(nyt_datapath+'*.csv'))\n",
    "frames = []\n",
    "for f in fnames:\n",
    "    #m = re.search(r'[^0-9]*([0-9][0-9_]+)[^0-9]*', f)\n",
    "    df = pd.read_csv(f)\n",
    "    \n",
    "    #df['Date'] = pd.to_datetime(m.group(1), format='%m_%d_%y')\n",
    "    df['Date'] = pd.to_datetime(df['Date'], format='%m-%d-%Y')\n",
    "    \n",
    "    df.drop(['Unnamed: 0'], axis = 1, inplace=True)\n",
    "    df['Cases'] = df['Cases'].apply(lambda x: x.replace(',', '')).astype('int')\n",
    "    frames.append(df)\n",
    "    \n",
    "nyt_df = pd.concat(frames)\n",
    "\n",
    "big10_df = pd.read_csv(os.path.join(big10_datapath, 'daily.csv'))\n",
    "old_cols = big10_df.columns.values.copy()\n",
    "old_cols[0] = 'School'\n",
    "big10_df.columns = old_cols\n",
    "big10_df['Date'] = pd.to_datetime(big10_df['Date'],format='%Y-%m-%d')"
   ]
  },
  {
   "cell_type": "code",
   "execution_count": 3,
   "metadata": {},
   "outputs": [],
   "source": [
    "nyt_df = nyt_df.sort_values('Date')\n",
    "big10_df = big10_df.sort_values('Date')"
   ]
  },
  {
   "cell_type": "code",
   "execution_count": 4,
   "metadata": {},
   "outputs": [],
   "source": [
    "nyt_df = nyt_df.drop_duplicates(subset = ['School','Cases'])"
   ]
  },
  {
   "cell_type": "markdown",
   "metadata": {},
   "source": [
    "### Combine NYT and Big 10"
   ]
  },
  {
   "cell_type": "code",
   "execution_count": 5,
   "metadata": {},
   "outputs": [],
   "source": [
    "# find list of schools\n",
    "schools = list(pd.unique(nyt_df.School))\n",
    "# NOTE: something I noticed is that some of the schools have less data points than the others. Not sure why.\n",
    "\n",
    "# Create an index with dates between september 8 (start of NYT collection) and today\n",
    "start_day = dt.datetime(2020, 9, 8)\n",
    "indexer = {}\n",
    "c = 0\n",
    "while start_day < dt.datetime.today():\n",
    "    indexer[c] = start_day\n",
    "    start_day = start_day + dt.timedelta(days = 1)\n",
    "    c += 1\n",
    "\n",
    "name_translator = {'University of Illinois Urbana-Champaign':'Illinois',\n",
    "                    'Indiana University Bloomington':'Indiana', \n",
    "                    'University of Iowa':'Iowa',\n",
    "                    'University of Maryland, College Park':'Maryland',\n",
    "                    'Michigan State University':'Michigan State',\n",
    "                    'University of Minnesota Twin Cities':'Minnesota',\n",
    "                    'Northwestern University':'Northwestern',\n",
    "                    'Ohio State University':'Ohio State',\n",
    "                    'Penn State University':'Penn State',\n",
    "                    'University of Wisconsin-Madison':'UW-Madison',\n",
    "                    'University of Michigan':'Michigan',\n",
    "                    'University of Nebraska-Lincoln':'Nebraska', \n",
    "                    'Purdue University':'Purdue',\n",
    "                    'Rutgers University':'Rutgers'}\n",
    "\n",
    "for i in name_translator.keys():\n",
    "    schools.remove(i)"
   ]
  },
  {
   "cell_type": "code",
   "execution_count": 6,
   "metadata": {},
   "outputs": [],
   "source": [
    "strindex = [dt.datetime.strftime(indexer[i], '%Y-%m-%d') for i in indexer]\n",
    "date_index = {indexer[j]:j for j in range(len(indexer))}\n",
    "data_dict = {}\n",
    "\n",
    "# Add all the big 10 schools\n",
    "for i in name_translator.values():\n",
    "    cases = [0 for i in range(len(indexer))]\n",
    "    school = big10_df.loc[big10_df.School == i]\n",
    "    for j in school.Date:\n",
    "        if j >= dt.datetime(2020,9,8):\n",
    "            to_index = date_index[j]\n",
    "            cases[to_index] = school.loc[school.Date == j].Confirmed.iloc[0]\n",
    "        \n",
    "    data_dict[i] = cases\n",
    "\n",
    "\n",
    "# Add all the NYT\n",
    "for i in schools:\n",
    "    cases = [0 for i in range(len(indexer))]\n",
    "    school = nyt_df.loc[nyt_df.School == i]\n",
    "    for j in school.Date:\n",
    "        to_index = date_index[j]\n",
    "        cases[to_index] = school.loc[school.Date == j].Cases.iloc[0]\n",
    "        \n",
    "    data_dict[i] = cases\n",
    "    "
   ]
  },
  {
   "cell_type": "markdown",
   "metadata": {},
   "source": [
    "### Drop all Zero columns"
   ]
  },
  {
   "cell_type": "code",
   "execution_count": 7,
   "metadata": {},
   "outputs": [],
   "source": [
    "incomplete_matr = pd.DataFrame.from_dict(data_dict)\n",
    "no_zero = incomplete_matr.loc[(incomplete_matr!=0).any(axis=1)]\n",
    "dates_used = no_zero.index\n",
    "schools_used = no_zero.columns\n",
    "\n",
    "# Transpose to make things easier\n",
    "arr = no_zero.T.values.tolist()"
   ]
  },
  {
   "cell_type": "markdown",
   "metadata": {},
   "source": [
    "### Randomly hide some of the dates/schools"
   ]
  },
  {
   "cell_type": "code",
   "execution_count": 8,
   "metadata": {},
   "outputs": [],
   "source": [
    "def hide_date(matrix, percent):\n",
    "    # returns a copy of the original matrix with x percent of the dates hidden\n",
    "    mat = copy.deepcopy(matrix)\n",
    "    num_hide = int(len(mat[0])*percent)\n",
    "\n",
    "    date_ind = range(len(mat[0]))\n",
    "    to_hide = random.sample(date_ind, num_hide)\n",
    "    to_hide.sort(reverse = True)\n",
    "    \n",
    "    for s in mat:\n",
    "        for t in to_hide:\n",
    "            s.pop(t)\n",
    "    \n",
    "    return mat\n",
    "\n",
    "def hide_school(matrix, percent):\n",
    "    # returns a copy of the original matrix with x percent of the schools hidden\n",
    "    mat = copy.deepcopy(matrix)\n",
    "    num_hide = int(len(mat)*percent)\n",
    "    \n",
    "    school_ind = range(len(mat))\n",
    "    to_hide = random.sample(school_ind, num_hide)\n",
    "    to_hide.sort(reverse = True)\n",
    "    \n",
    "    for t in to_hide:\n",
    "        mat.pop(t)\n",
    "    \n",
    "    return mat\n",
    "    "
   ]
  },
  {
   "cell_type": "code",
   "execution_count": 9,
   "metadata": {},
   "outputs": [],
   "source": [
    "#arr = hide_date(arr, 0.5)\n",
    "#arr = hide_school(arr, 0.2)"
   ]
  },
  {
   "cell_type": "markdown",
   "metadata": {},
   "source": [
    "### Test if the matrix is row increasing "
   ]
  },
  {
   "cell_type": "code",
   "execution_count": 10,
   "metadata": {},
   "outputs": [],
   "source": [
    "def is_inc(matrix, printy=True):\n",
    "    # matrix is a 2d array\n",
    "    # matrix[0] is the first school\n",
    "    # NOTE: That is the transpose of what I'm using elsewhere\n",
    "    #       just to make things easier\n",
    "    \n",
    "    non_inc = {}\n",
    "    for i in range(len(matrix)):\n",
    "        last = matrix[i][0]\n",
    "        spots = []\n",
    "        for j in range(len(matrix[0])):\n",
    "            if matrix[i][j] != 0 and not np.isnan(matrix[i][j]):\n",
    "                if matrix[i][j] < last:\n",
    "                    spots.append(j)\n",
    "                last = matrix[i][j]\n",
    "        \n",
    "        if len(spots) != 0:\n",
    "            non_inc[i] = spots\n",
    "        \n",
    "    if printy == True:\n",
    "        print(str(len(non_inc)) + \" schools are non increasing in at least one spot\")\n",
    "    return non_inc"
   ]
  },
  {
   "cell_type": "code",
   "execution_count": 11,
   "metadata": {},
   "outputs": [
    {
     "name": "stdout",
     "output_type": "stream",
     "text": [
      "111 schools are non increasing in at least one spot\n",
      "rank 27\n"
     ]
    }
   ],
   "source": [
    "is_inc(arr)\n",
    "print('rank ' + str(np.linalg.matrix_rank(arr)))"
   ]
  },
  {
   "cell_type": "markdown",
   "metadata": {},
   "source": [
    "### Run through lmafit"
   ]
  },
  {
   "cell_type": "code",
   "execution_count": 12,
   "metadata": {},
   "outputs": [],
   "source": [
    "# make the arrays needed for lmafit\n",
    "\n",
    "known_seq = [[],[]]\n",
    "known_values = []\n",
    "for i in range(len(arr)):\n",
    "    for j in range(len(arr[0])):\n",
    "        if arr[i][j] != 0:\n",
    "            known_seq[0].append(i)\n",
    "            known_seq[1].append(j)\n",
    "            known_values.append(arr[i][j])\n",
    "\n",
    "known_indices = [tuple(known_seq[0]), tuple(known_seq[1])]\n",
    "known_values = [tuple(known_values)]"
   ]
  },
  {
   "cell_type": "code",
   "execution_count": 13,
   "metadata": {
    "scrolled": true
   },
   "outputs": [
    {
     "name": "stderr",
     "output_type": "stream",
     "text": [
      "C:\\Users\\kq146\\code\\covid_college_tracker\\Covid_data\\src\\lmafit.py:39: FutureWarning: Using a non-tuple sequence for multidimensional indexing is deprecated; use `arr[tuple(seq)]` instead of `arr[seq]`. In the future this will be interpreted as an array index, `arr[np.array(seq)]`, which will result either in an error or a different result.\n",
      "  Z[Known] = data\n"
     ]
    },
    {
     "name": "stdout",
     "output_type": "stream",
     "text": [
      "            0            1            2      3       4           5     \\\n",
      "0    1841.000000  2020.000000  1755.000000  140.0  1348.0  128.000000   \n",
      "1    1888.000000  2020.000000  1755.000000  142.0  1348.0  128.000000   \n",
      "2    1922.000000  2020.000000  1831.000000  170.0  1348.0  128.000000   \n",
      "3    1957.000000  2020.000000  1831.000000  175.0  1348.0  147.000000   \n",
      "4    1967.000000  2020.000000  1868.000000  175.0  1348.0  147.000000   \n",
      "..           ...          ...          ...    ...     ...         ...   \n",
      "99   4501.000000     0.001439  3126.000000  844.0  3710.0   -0.007576   \n",
      "100  4512.000000    -0.004959     0.031099  847.0  3710.0   -0.024153   \n",
      "101  4518.000000     0.005274    -0.034053  873.0  3710.0    0.019395   \n",
      "102  4526.000000    -0.002862     0.020086  878.0  3710.0    0.004109   \n",
      "103    -0.017582    -0.000996     0.006170  886.0  3710.0   -0.014277   \n",
      "\n",
      "           6            7            8            9     ...      1862  \\\n",
      "0     73.000000  1888.000000  1053.000000   647.000000  ...  0.001499   \n",
      "1     92.000000  2044.000000  1053.000000   937.000000  ...  0.002660   \n",
      "2     92.000000  2159.000000  1053.000000  1156.000000  ...  0.061719   \n",
      "3     92.000000  2264.000000  1691.000000  1223.000000  ... -0.028894   \n",
      "4     92.000000  2304.000000  1691.000000  1299.000000  ...  0.001115   \n",
      "..          ...          ...          ...          ...  ...       ...   \n",
      "99   511.000000     0.010920  5125.000000  3867.000000  ... -0.005783   \n",
      "100   -0.132268    -0.026308  5125.000000  3874.000000  ...  0.002173   \n",
      "101    0.150747     0.030809     0.009470  3882.000000  ...  0.002266   \n",
      "102   -0.098706    -0.021968    -0.003712  3891.000000  ... -0.004913   \n",
      "103   -0.024623    -0.003806    -0.002390     0.013813  ...  0.000561   \n",
      "\n",
      "         1863      1864       1865      1866      1867      1868      1869  \\\n",
      "0    0.022482  0.002998   1.074639  0.007494  0.004496  0.001499  0.001499   \n",
      "1    0.039896  0.005319   1.907014  0.013299  0.007979  0.002660  0.002660   \n",
      "2    0.925784  0.123438  44.252470  0.308595  0.185157  0.061719  0.061719   \n",
      "3   -0.433403 -0.057787 -20.716652 -0.144468 -0.086681 -0.028894 -0.028894   \n",
      "4    0.016730  0.002231   0.799696  0.005577  0.003346  0.001115  0.001115   \n",
      "..        ...       ...        ...       ...       ...       ...       ...   \n",
      "99  -0.086740 -0.011565  -4.146152 -0.028913 -0.017348 -0.005783 -0.005783   \n",
      "100  0.032600  0.004347   1.558290  0.010867  0.006520  0.002173  0.002173   \n",
      "101  0.033994  0.004532   1.624895  0.011331  0.006799  0.002266  0.002266   \n",
      "102 -0.073689 -0.009825  -3.522340 -0.024563 -0.014738 -0.004913 -0.004913   \n",
      "103  0.008410  0.001121   0.401982  0.002803  0.001682  0.000561  0.000561   \n",
      "\n",
      "         1870      1871  \n",
      "0    0.043465  0.110911  \n",
      "1    0.077132  0.196819  \n",
      "2    1.789849  4.567201  \n",
      "3   -0.837912 -2.138120  \n",
      "4    0.032345  0.082535  \n",
      "..        ...       ...  \n",
      "99  -0.167697 -0.427915  \n",
      "100  0.063027  0.160828  \n",
      "101  0.065721  0.167702  \n",
      "102 -0.142466 -0.363533  \n",
      "103  0.016259  0.041488  \n",
      "\n",
      "[104 rows x 1872 columns]\n"
     ]
    }
   ],
   "source": [
    "X,Y,out = lmafit_mc_adp(len(arr),len(arr[0]),26,known_indices,known_values)\n",
    "\n",
    "complete = np.dot(X,Y)\n",
    "print(pd.DataFrame(complete).T)"
   ]
  },
  {
   "cell_type": "markdown",
   "metadata": {},
   "source": [
    "### Test for row increasing and do isotonic regression if not"
   ]
  },
  {
   "cell_type": "code",
   "execution_count": 14,
   "metadata": {},
   "outputs": [
    {
     "name": "stdout",
     "output_type": "stream",
     "text": [
      "1872 schools are non increasing in at least one spot\n"
     ]
    }
   ],
   "source": [
    "non_inc = is_inc(complete)"
   ]
  },
  {
   "cell_type": "code",
   "execution_count": 15,
   "metadata": {},
   "outputs": [],
   "source": [
    "def iso(matrix):\n",
    "    # performs isotonic regression for every school\n",
    "    tonic = copy.deepcopy(matrix) # returns a new isotonic matrix\n",
    "    \n",
    "    # dat dict tells me where things arent increasing\n",
    "    dat_dict = is_inc(matrix, False)\n",
    "    \n",
    "    for i in dat_dict.keys():\n",
    "        to_predict = dat_dict[i]\n",
    "        leng = len(tonic[0]) - len(to_predict)\n",
    "        initial_vals = list(tonic[i].copy())\n",
    "        X = list(range(len(tonic[i])))\n",
    "\n",
    "        # Use the increasing values to fit the model and then predict what the decreasing ones should be \n",
    "        iso = IsotonicRegression().fit(X,initial_vals)\n",
    "        predictions = iso.predict(range(len(tonic[i])))\n",
    "        \n",
    "        # put everything back:\n",
    "        tonic[i] = predictions\n",
    "    \n",
    "    return(tonic)"
   ]
  },
  {
   "cell_type": "code",
   "execution_count": 16,
   "metadata": {},
   "outputs": [],
   "source": [
    "iso_result = iso(complete)"
   ]
  },
  {
   "cell_type": "code",
   "execution_count": 17,
   "metadata": {},
   "outputs": [
    {
     "name": "stdout",
     "output_type": "stream",
     "text": [
      "0 schools are non increasing in at least one spot\n"
     ]
    },
    {
     "data": {
      "text/plain": [
       "{}"
      ]
     },
     "execution_count": 17,
     "metadata": {},
     "output_type": "execute_result"
    }
   ],
   "source": [
    "is_inc(iso_result)"
   ]
  },
  {
   "cell_type": "code",
   "execution_count": 19,
   "metadata": {},
   "outputs": [
    {
     "name": "stdout",
     "output_type": "stream",
     "text": [
      "        Illinois      Indiana         Iowa  Maryland  Michigan State  \\\n",
      "0    1841.000000  2020.000000  1755.000000     140.0          1348.0   \n",
      "1    1888.000000  2020.000000  1755.000000     142.0          1348.0   \n",
      "2    1922.000000  2020.000000  1831.000000     170.0          1348.0   \n",
      "3    1957.000000  2020.000000  1831.000000     175.0          1348.0   \n",
      "4    1967.000000  2020.000000  1868.000000     175.0          1348.0   \n",
      "..           ...          ...          ...       ...             ...   \n",
      "99   4185.332496  3458.714294  2675.000598     844.0          3710.0   \n",
      "100  4185.332496  3458.714294  2675.000598     847.0          3710.0   \n",
      "101  4185.332496  3458.714294  2675.000598     873.0          3710.0   \n",
      "102  4185.332496  3458.714294  2675.000598     878.0          3710.0   \n",
      "103  4185.332496  3458.714294  2675.000598     886.0          3710.0   \n",
      "\n",
      "      Minnesota  Northwestern   Ohio State   Penn State   UW-Madison  ...  \\\n",
      "0    128.000000     73.000000  1888.000000  1053.000000   647.000000  ...   \n",
      "1    128.000000     92.000000  2044.000000  1053.000000   937.000000  ...   \n",
      "2    128.000000     92.000000  2159.000000  1053.000000  1156.000000  ...   \n",
      "3    147.000000     92.000000  2264.000000  1691.000000  1223.000000  ...   \n",
      "4    147.000000     92.000000  2304.000000  1691.000000  1299.000000  ...   \n",
      "..          ...           ...          ...          ...          ...  ...   \n",
      "99   724.683851    417.817684  4344.973899  4594.210615  3636.667178  ...   \n",
      "100  724.683851    417.817684  4344.973899  4594.210615  3636.667178  ...   \n",
      "101  724.683851    417.817684  4344.973899  4594.210615  3636.667178  ...   \n",
      "102  724.683851    417.817684  4344.973899  4594.210615  3636.667178  ...   \n",
      "103  724.683851    417.817684  4344.973899  4594.210615  3636.667178  ...   \n",
      "\n",
      "     Montana Bible College  Dawson Community College  \\\n",
      "0                -0.003673                 -0.055102   \n",
      "1                -0.003673                 -0.055102   \n",
      "2                -0.003673                 -0.055102   \n",
      "3                -0.003673                 -0.055102   \n",
      "4                -0.003673                 -0.055102   \n",
      "..                     ...                       ...   \n",
      "99                0.111267                  1.669002   \n",
      "100               0.111267                  1.669002   \n",
      "101               0.111267                  1.669002   \n",
      "102               0.111267                  1.669002   \n",
      "103               0.111267                  1.669002   \n",
      "\n",
      "     Pima Medical Institute-Dillon  Ivy Tech. Community College-Indianapolis  \\\n",
      "0                        -0.007347                                 -2.633861   \n",
      "1                        -0.007347                                 -2.633861   \n",
      "2                        -0.007347                                 -2.633861   \n",
      "3                        -0.007347                                 -2.633861   \n",
      "4                        -0.007347                                 -2.633861   \n",
      "..                             ...                                       ...   \n",
      "99                        0.222534                                 79.778298   \n",
      "100                       0.222534                                 79.778298   \n",
      "101                       0.222534                                 79.778298   \n",
      "102                       0.222534                                 79.778298   \n",
      "103                       0.222534                                 79.778298   \n",
      "\n",
      "     Bethany College (Kan.)  Thomas College  Simmons College of Kentucky  \\\n",
      "0                 -0.018367        -0.01102                    -0.003673   \n",
      "1                 -0.018367        -0.01102                    -0.003673   \n",
      "2                 -0.018367        -0.01102                    -0.003673   \n",
      "3                 -0.018367        -0.01102                    -0.003673   \n",
      "4                 -0.018367        -0.01102                    -0.003673   \n",
      "..                      ...             ...                          ...   \n",
      "99                 0.556334         0.33380                     0.111267   \n",
      "100                0.556334         0.33380                     0.111267   \n",
      "101                0.556334         0.33380                     0.111267   \n",
      "102                0.556334         0.33380                     0.111267   \n",
      "103                0.556334         0.33380                     0.111267   \n",
      "\n",
      "     University of Holy Cross  McNeese State University  \\\n",
      "0                   -0.003673                 -0.106530   \n",
      "1                   -0.003673                 -0.106530   \n",
      "2                   -0.003673                 -0.106530   \n",
      "3                   -0.003673                 -0.106530   \n",
      "4                   -0.003673                 -0.106530   \n",
      "..                        ...                       ...   \n",
      "99                   0.111267                  3.226737   \n",
      "100                  0.111267                  3.226737   \n",
      "101                  0.111267                  3.226737   \n",
      "102                  0.111267                  3.226737   \n",
      "103                  0.111267                  3.226737   \n",
      "\n",
      "     Louisiana State University-Eunice  \n",
      "0                            -0.271835  \n",
      "1                            -0.271835  \n",
      "2                            -0.271835  \n",
      "3                            -0.271835  \n",
      "4                            -0.271835  \n",
      "..                                 ...  \n",
      "99                            8.233743  \n",
      "100                           8.233743  \n",
      "101                           8.233743  \n",
      "102                           8.233743  \n",
      "103                           8.233743  \n",
      "\n",
      "[104 rows x 1872 columns]\n"
     ]
    }
   ],
   "source": [
    "fin = pd.DataFrame(iso_result)\n",
    "fin.index = incomplete_matr.columns\n",
    "print(fin.T)"
   ]
  }
 ],
 "metadata": {
  "kernelspec": {
   "display_name": "Python 3",
   "language": "python",
   "name": "python3"
  },
  "language_info": {
   "codemirror_mode": {
    "name": "ipython",
    "version": 3
   },
   "file_extension": ".py",
   "mimetype": "text/x-python",
   "name": "python",
   "nbconvert_exporter": "python",
   "pygments_lexer": "ipython3",
   "version": "3.8.5"
  }
 },
 "nbformat": 4,
 "nbformat_minor": 4
}
