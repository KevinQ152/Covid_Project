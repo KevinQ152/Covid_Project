{
 "cells": [
  {
   "cell_type": "code",
   "execution_count": 1,
   "metadata": {},
   "outputs": [],
   "source": [
    "import os\n",
    "import glob\n",
    "import re\n",
    "import pandas as pd\n",
    "import datetime as dt\n",
    "import random\n",
    "import numpy as np\n",
    "\n",
    "\n",
    "# Note: I put lmafit inside src/ to make things easier for right now\n",
    "from lmafit import lmafit_mc_adp"
   ]
  },
  {
   "cell_type": "markdown",
   "metadata": {},
   "source": [
    "### Generate testing matrix"
   ]
  },
  {
   "cell_type": "code",
   "execution_count": 2,
   "metadata": {},
   "outputs": [],
   "source": [
    "# Create an index with dates between september 8 (start of NYT collection) and today\n",
    "start_day = dt.datetime(2020, 9, 8)\n",
    "indexer = {}\n",
    "c = 0\n",
    "while start_day < dt.datetime.today():\n",
    "    indexer[c] = start_day\n",
    "    start_day = start_day + dt.timedelta(days = 1)\n",
    "    c += 1"
   ]
  },
  {
   "cell_type": "code",
   "execution_count": 3,
   "metadata": {},
   "outputs": [
    {
     "name": "stdout",
     "output_type": "stream",
     "text": [
      "30\n",
      "      0     1    2     3     4    5    6     7     8    9   ...    20    21  \\\n",
      "0     33    28   43    15    28   17   24    13    15   11  ...     3    24   \n",
      "1     39    32   43    17    34   18   24    31    65   23  ...    39    24   \n",
      "2     39    39   43    38    47   24   62    31    65   32  ...    41    36   \n",
      "3     39    99   47    40    49   26   92    31    76   34  ...   143    36   \n",
      "4     40   100   52    40    51   33   93    52    87   38  ...   153    45   \n",
      "..   ...   ...  ...   ...   ...  ...  ...   ...   ...  ...  ...   ...   ...   \n",
      "115  519  2044  272  1030  1875  610  904   980  1396  847  ...  1559  1232   \n",
      "116  523  2055  273  1030  1875  613  905   980  1400  852  ...  1560  1242   \n",
      "117  523  2080  274  1030  1941  621  940   999  1412  858  ...  1561  1249   \n",
      "118  536  2112  279  1035  1944  641  957  1011  1420  865  ...  1562  1269   \n",
      "119  544  2120  280  1066  1958  662  958  1014  1421  865  ...  1577  1269   \n",
      "\n",
      "      22    23    24   25   26    27   28    29  \n",
      "0      4    27    13   35   37    33   35    21  \n",
      "1      4    42    23   43   39    42   36    39  \n",
      "2      7    76    53   44   41    52   36    48  \n",
      "3     10    91    66   47   46    59   42    56  \n",
      "4     16   101    79   47   47    67   42    61  \n",
      "..   ...   ...   ...  ...  ...   ...  ...   ...  \n",
      "115  640  1581  1084  627  226   989  216  1500  \n",
      "116  641  1581  1112  630  226  1000  217  1550  \n",
      "117  647  1581  1112  632  228  1002  217  1553  \n",
      "118  647  1585  1112  637  228  1004  218  1555  \n",
      "119  660  1653  1112  643  230  1009  218  1557  \n",
      "\n",
      "[120 rows x 30 columns]\n"
     ]
    }
   ],
   "source": [
    "# Create a matrix of 30 tester schools with random case numbers (always increasing and non-zero)\n",
    "# NOTE: I used the exponential random distribution for changes between days\n",
    "\n",
    "# Here Im creating different \"spread rates\" for each fake school\n",
    "spread_rate = []\n",
    "for i in range(30):\n",
    "    spread_rate.append(random.randrange(1,30))\n",
    "    \n",
    "matr = [[] for i in range(len(indexer))]\n",
    "\n",
    "# for each date\n",
    "for i in range(len(indexer)):    \n",
    "    # for each school\n",
    "    for j in range(30):\n",
    "        daily_spread = random.expovariate(1/spread_rate[j])\n",
    "        if i == 0: #CHANGE\n",
    "            # Day 0 gets random starting number\n",
    "            matr[i].append(random.randrange(1,50))\n",
    "        else:\n",
    "            # All other dates must be >= than the day before\n",
    "            last_val = matr[i-1][j]\n",
    "            matr[i].append(random.randrange(last_val, int(last_val + daily_spread + 1)))\n",
    "\n",
    "print(np.linalg.matrix_rank(matr))\n",
    "print(pd.DataFrame(matr))"
   ]
  },
  {
   "cell_type": "markdown",
   "metadata": {},
   "source": [
    "### Remove some rows (dates) to simulate NYT "
   ]
  },
  {
   "cell_type": "code",
   "execution_count": 4,
   "metadata": {},
   "outputs": [
    {
     "name": "stdout",
     "output_type": "stream",
     "text": [
      "rank 8 matrix\n",
      "     0   1   2   3   4   5   6   7   8   9   ...   20  21  22  23  24  25  26  \\\n",
      "0    33  28  43  15  28  17  24  13  15  11  ...    3  24   4  27  13  35  37   \n",
      "1     0   0   0   0   0   0   0   0   0   0  ...    0   0   0   0   0   0   0   \n",
      "2     0   0   0   0   0   0   0   0   0   0  ...    0   0   0   0   0   0   0   \n",
      "3    39  99  47  40  49  26  92  31  76  34  ...  143  36  10  91  66  47  46   \n",
      "4     0   0   0   0   0   0   0   0   0   0  ...    0   0   0   0   0   0   0   \n",
      "..   ..  ..  ..  ..  ..  ..  ..  ..  ..  ..  ...  ...  ..  ..  ..  ..  ..  ..   \n",
      "115   0   0   0   0   0   0   0   0   0   0  ...    0   0   0   0   0   0   0   \n",
      "116   0   0   0   0   0   0   0   0   0   0  ...    0   0   0   0   0   0   0   \n",
      "117   0   0   0   0   0   0   0   0   0   0  ...    0   0   0   0   0   0   0   \n",
      "118   0   0   0   0   0   0   0   0   0   0  ...    0   0   0   0   0   0   0   \n",
      "119   0   0   0   0   0   0   0   0   0   0  ...    0   0   0   0   0   0   0   \n",
      "\n",
      "     27  28  29  \n",
      "0    33  35  21  \n",
      "1     0   0   0  \n",
      "2     0   0   0  \n",
      "3    59  42  56  \n",
      "4     0   0   0  \n",
      "..   ..  ..  ..  \n",
      "115   0   0   0  \n",
      "116   0   0   0  \n",
      "117   0   0   0  \n",
      "118   0   0   0  \n",
      "119   0   0   0  \n",
      "\n",
      "[120 rows x 30 columns]\n"
     ]
    },
    {
     "data": {
      "text/plain": [
       "120"
      ]
     },
     "execution_count": 4,
     "metadata": {},
     "output_type": "execute_result"
    }
   ],
   "source": [
    "# dates NYT was updated\n",
    "nyt_dates = ['2020-09-08', '2020-09-11', '2020-09-26', '2020-10-09', '2020-10-24', '2020-11-06', '2020-11-20', '2020-12-12']\n",
    "drop_matr = matr.copy()\n",
    "\n",
    "for i in range(len(drop_matr)):\n",
    "    if dt.datetime.strftime(indexer[i], '%Y-%m-%d') not in nyt_dates:\n",
    "        drop_matr[i] = [0]*30\n",
    "        \n",
    "print('rank ' + str(np.linalg.matrix_rank(drop_matr)) + ' matrix')\n",
    "print(pd.DataFrame(drop_matr))\n",
    "len(drop_matr)"
   ]
  },
  {
   "cell_type": "code",
   "execution_count": 5,
   "metadata": {},
   "outputs": [],
   "source": [
    "# make the arrays needed for lmafit\n",
    "\n",
    "known_seq = [[],[]]\n",
    "known_values = []\n",
    "for i in range(len(drop_matr)):\n",
    "    date_ind = dt.datetime.strftime(indexer[i], '%Y-%m-%d')\n",
    "    if date_ind in nyt_dates:\n",
    "        for j in range(30):\n",
    "            known_seq[0].append(i)\n",
    "            known_seq[1].append(j)\n",
    "            known_values.append(drop_matr[i][j])\n",
    "\n",
    "known_indices = [tuple(known_seq[0]), tuple(known_seq[1])]"
   ]
  },
  {
   "cell_type": "code",
   "execution_count": 6,
   "metadata": {},
   "outputs": [
    {
     "name": "stderr",
     "output_type": "stream",
     "text": [
      "C:\\Users\\kq146\\code\\covid_college_tracker\\Covid_data\\src\\lmafit.py:39: FutureWarning: Using a non-tuple sequence for multidimensional indexing is deprecated; use `arr[tuple(seq)]` instead of `arr[seq]`. In the future this will be interpreted as an array index, `arr[np.array(seq)]`, which will result either in an error or a different result.\n",
      "  Z[Known] = data\n"
     ]
    },
    {
     "name": "stdout",
     "output_type": "stream",
     "text": [
      "       0     1     2     3     4     5     6     7     8     9   ...     20  \\\n",
      "0    33.0  28.0  43.0  15.0  28.0  17.0  24.0  13.0  15.0  11.0  ...    3.0   \n",
      "1     0.0   0.0   0.0   0.0   0.0   0.0   0.0   0.0   0.0   0.0  ...    0.0   \n",
      "2     0.0   0.0   0.0   0.0   0.0   0.0   0.0   0.0   0.0   0.0  ...    0.0   \n",
      "3    39.0  99.0  47.0  40.0  49.0  26.0  92.0  31.0  76.0  34.0  ...  143.0   \n",
      "4     0.0   0.0   0.0   0.0   0.0   0.0   0.0   0.0   0.0   0.0  ...    0.0   \n",
      "..    ...   ...   ...   ...   ...   ...   ...   ...   ...   ...  ...    ...   \n",
      "115   0.0   0.0   0.0   0.0   0.0   0.0   0.0   0.0   0.0   0.0  ...    0.0   \n",
      "116   0.0   0.0   0.0   0.0   0.0   0.0   0.0   0.0   0.0   0.0  ...    0.0   \n",
      "117   0.0   0.0   0.0   0.0   0.0   0.0   0.0   0.0   0.0   0.0  ...    0.0   \n",
      "118   0.0   0.0   0.0   0.0   0.0   0.0   0.0   0.0   0.0   0.0  ...    0.0   \n",
      "119   0.0   0.0   0.0   0.0   0.0   0.0   0.0   0.0   0.0   0.0  ...    0.0   \n",
      "\n",
      "       21    22    23    24    25    26    27    28    29  \n",
      "0    24.0   4.0  27.0  13.0  35.0  37.0  33.0  35.0  21.0  \n",
      "1     0.0   0.0   0.0   0.0   0.0   0.0   0.0   0.0   0.0  \n",
      "2     0.0   0.0   0.0   0.0   0.0   0.0   0.0   0.0   0.0  \n",
      "3    36.0  10.0  91.0  66.0  47.0  46.0  59.0  42.0  56.0  \n",
      "4     0.0   0.0   0.0   0.0   0.0   0.0   0.0   0.0   0.0  \n",
      "..    ...   ...   ...   ...   ...   ...   ...   ...   ...  \n",
      "115   0.0   0.0   0.0   0.0   0.0   0.0   0.0   0.0   0.0  \n",
      "116   0.0   0.0   0.0   0.0   0.0   0.0   0.0   0.0   0.0  \n",
      "117   0.0   0.0   0.0   0.0   0.0   0.0   0.0   0.0   0.0  \n",
      "118   0.0   0.0   0.0   0.0   0.0   0.0   0.0   0.0   0.0  \n",
      "119   0.0   0.0   0.0   0.0   0.0   0.0   0.0   0.0   0.0  \n",
      "\n",
      "[120 rows x 30 columns]\n"
     ]
    }
   ],
   "source": [
    "X,Y,out = lmafit_mc_adp(len(drop_matr),30,8,known_indices,known_values)\n",
    "\n",
    "complete = np.dot(X,Y)\n",
    "print(pd.DataFrame(complete))"
   ]
  },
  {
   "cell_type": "markdown",
   "metadata": {},
   "source": [
    "### Try this with the actual data"
   ]
  },
  {
   "cell_type": "code",
   "execution_count": 7,
   "metadata": {},
   "outputs": [],
   "source": [
    "# import all the data\n",
    "cwd = os.getcwd()\n",
    "par = os.path.join(cwd, os.pardir)\n",
    "par = os.path.abspath(par)\n",
    "parpar = os.path.join(par, os.pardir)\n",
    "parpar = os.path.abspath(parpar)\n",
    "nyt_datapath = os.path.join(par, 'UniversityCases', '')\n",
    "big10_datapath = os.path.join(parpar, 'college-covid19-dataset', 'data', '')\n",
    "\n",
    "fnames = sorted(glob.glob(nyt_datapath+'*.csv'))\n",
    "frames = []\n",
    "for f in fnames:\n",
    "    #m = re.search(r'[^0-9]*([0-9][0-9_]+)[^0-9]*', f)\n",
    "    df = pd.read_csv(f)\n",
    "    \n",
    "    #df['Date'] = pd.to_datetime(m.group(1), format='%m_%d_%y')\n",
    "    df['Date'] = pd.to_datetime(df['Date'], format='%m-%d-%Y')\n",
    "    \n",
    "    df.drop(['Unnamed: 0'], axis = 1, inplace=True)\n",
    "    df['Cases'] = df['Cases'].apply(lambda x: x.replace(',', '')).astype('int')\n",
    "    frames.append(df)\n",
    "    \n",
    "nyt_df = pd.concat(frames)\n",
    "\n",
    "big10_df = pd.read_csv(os.path.join(big10_datapath, 'daily.csv'))\n",
    "old_cols = big10_df.columns.values.copy()\n",
    "old_cols[0] = 'School'\n",
    "big10_df.columns = old_cols\n",
    "big10_df['Date'] = pd.to_datetime(big10_df['Date'],format='%Y-%m-%d')"
   ]
  },
  {
   "cell_type": "code",
   "execution_count": 8,
   "metadata": {},
   "outputs": [],
   "source": [
    "nyt_df = nyt_df.drop_duplicates(subset = ['School','Cases'])"
   ]
  },
  {
   "cell_type": "markdown",
   "metadata": {},
   "source": [
    "### Build the frame by removing duplicates and hiding 4 of the Big 10 schools for testing"
   ]
  },
  {
   "cell_type": "code",
   "execution_count": 9,
   "metadata": {},
   "outputs": [],
   "source": [
    "# find list of schools\n",
    "schools = pd.unique(nyt_df.School)\n",
    "# NOTE: something I noticed is that some of the schools have less data points than the others. Not sure why.\n",
    "\n",
    "name_translator = {'University of Illinois Urbana-Champaign':'Illinois',\n",
    "                    'Indiana University Bloomington':'Indiana', \n",
    "                    'University of Iowa':'Iowa',\n",
    "                    'University of Maryland, College Park':'Maryland',\n",
    "                    'Michigan State University':'Michigan State',\n",
    "                    'University of Minnesota Twin Cities':'Minnesota',\n",
    "                    'Northwestern University':'Northwestern',\n",
    "                    'Ohio State University':'Ohio State',\n",
    "                    'Penn State University':'Penn State',\n",
    "                    'University of Wisconsin-Madison':'UW-Madison'}\n",
    "\n",
    "hidden = {'University of Michigan':'Michigan','University of Nebraska-Lincoln':'Nebraska', \n",
    "          'Purdue University':'Purdue','Rutgers University':'Rutgers'}"
   ]
  },
  {
   "cell_type": "code",
   "execution_count": 10,
   "metadata": {},
   "outputs": [],
   "source": [
    "# This takes a while to run, I'll need to write it better\n",
    "\n",
    "strindex = [dt.datetime.strftime(indexer[i], '%Y-%m-%d') for i in indexer]\n",
    "data_dict = {}\n",
    "for i in schools:\n",
    "    cases = []\n",
    "    if i in hidden.keys():\n",
    "        cases = [0] * len(strindex)\n",
    "    elif i in name_translator.keys():\n",
    "        school = big10_df.loc[big10_df.School == name_translator[i]]\n",
    "        for j in strindex:\n",
    "            if not school.loc[school.Date == j].empty:\n",
    "                cases.append(school.loc[school.Date == j].Confirmed.iloc[0])\n",
    "            else:\n",
    "                cases.append(0)\n",
    "    else:\n",
    "        school = nyt_df.loc[nyt_df.School == i]\n",
    "        for j in strindex:\n",
    "            if not school.loc[school.Date == j].empty:\n",
    "                cases.append(school.loc[school.Date == j].Cases.iloc[0])\n",
    "            else:\n",
    "                cases.append(0)\n",
    "    data_dict[i] = cases"
   ]
  },
  {
   "cell_type": "code",
   "execution_count": 15,
   "metadata": {},
   "outputs": [
    {
     "name": "stdout",
     "output_type": "stream",
     "text": [
      "rank 22\n"
     ]
    }
   ],
   "source": [
    "incomplete_matr = pd.DataFrame.from_dict(data_dict)\n",
    "arr = incomplete_matr.values.tolist()\n",
    "print('rank ' + str(np.linalg.matrix_rank(arr)))\n",
    "\n",
    "# make the arrays needed for lmafit\n",
    "\n",
    "known_seq = [[],[]]\n",
    "known_values = []\n",
    "for i in range(len(arr)):\n",
    "    for j in range(len(arr[0])):\n",
    "        if arr[i][j] != 0:\n",
    "            known_seq[0].append(i)\n",
    "            known_seq[1].append(j)\n",
    "            known_values.append(arr[i][j])\n",
    "\n",
    "known_indices = [tuple(known_seq[0]), tuple(known_seq[1])]\n",
    "known_values = [tuple(known_values)]"
   ]
  },
  {
   "cell_type": "code",
   "execution_count": 16,
   "metadata": {},
   "outputs": [
    {
     "name": "stderr",
     "output_type": "stream",
     "text": [
      "C:\\Users\\kq146\\code\\covid_college_tracker\\Covid_data\\src\\lmafit.py:39: FutureWarning: Using a non-tuple sequence for multidimensional indexing is deprecated; use `arr[tuple(seq)]` instead of `arr[seq]`. In the future this will be interpreted as an array index, `arr[np.array(seq)]`, which will result either in an error or a different result.\n",
      "  Z[Known] = data\n",
      "C:\\Users\\kq146\\code\\covid_college_tracker\\Covid_data\\src\\lmafit.py:87: FutureWarning: Using a non-tuple sequence for multidimensional indexing is deprecated; use `arr[tuple(seq)]` instead of `arr[seq]`. In the future this will be interpreted as an array index, `arr[np.array(seq)]`, which will result either in an error or a different result.\n",
      "  Res = data - Z[Known]\n",
      "C:\\Users\\kq146\\code\\covid_college_tracker\\Covid_data\\src\\lmafit.py:120: FutureWarning: Using a non-tuple sequence for multidimensional indexing is deprecated; use `arr[tuple(seq)]` instead of `arr[seq]`. In the future this will be interpreted as an array index, `arr[np.array(seq)]`, which will result either in an error or a different result.\n",
      "  Z[Known] = data + alf*Res\n"
     ]
    },
    {
     "name": "stdout",
     "output_type": "stream",
     "text": [
      "          0         1          2            3           4         5     \\\n",
      "0     8.000000  0.011449   2.000000  1074.000000    2.000000  0.022898   \n",
      "1    -0.658441 -0.031028   0.796678    -9.427792   -0.527508 -0.062056   \n",
      "2     5.663128  0.259158   0.434950   -38.160511    3.954616  0.518316   \n",
      "3    17.000000 -0.081460   3.340867  1672.000000    5.851227 -0.162920   \n",
      "4     0.443440  0.022420  -0.128539     2.363143   -0.392540  0.044840   \n",
      "..         ...       ...        ...          ...         ...       ...   \n",
      "115  41.000000  2.000000  35.000000  2134.000000  140.000000  4.000000   \n",
      "116   0.000000  0.000000   0.000000     0.000000    0.000000  0.000000   \n",
      "117   0.000000  0.000000   0.000000     0.000000    0.000000  0.000000   \n",
      "118   0.000000  0.000000   0.000000     0.000000    0.000000  0.000000   \n",
      "119   0.000000  0.000000   0.000000     0.000000    0.000000  0.000000   \n",
      "\n",
      "           6          7          8          9     ...      1862      1863  \\\n",
      "0      1.020935  -0.046123   0.035032   0.075787  ... -0.014656 -0.047634   \n",
      "1     -0.898146  -1.008021   1.277612   0.042088  ... -0.055354 -0.179901   \n",
      "2     12.864498   4.114060   0.681232  -0.405618  ...  0.025550  0.083036   \n",
      "3     64.000000  20.000000  16.000000   5.000000  ... -0.106233 -0.345258   \n",
      "4      5.173105  -0.013641  -0.538647  -0.137149  ...  0.014124  0.045904   \n",
      "..          ...        ...        ...        ...  ...       ...       ...   \n",
      "115  214.000000  84.000000  39.000000  41.000000  ...  0.205735  0.668637   \n",
      "116    0.000000   0.000000   0.000000   0.000000  ...  0.000000  0.000000   \n",
      "117    0.000000   0.000000   0.000000   0.000000  ...  0.000000  0.000000   \n",
      "118    0.000000   0.000000   0.000000   0.000000  ...  0.000000  0.000000   \n",
      "119    0.000000   0.000000   0.000000   0.000000  ...  0.000000  0.000000   \n",
      "\n",
      "         1864       1865      1866      1867      1868      1869      1870  \\\n",
      "0   -0.007328   2.545021 -0.164934  0.032157  0.087759 -0.039849 -0.438334   \n",
      "1   -0.027677   1.847356  0.630555  0.889336  0.063702  0.005994  0.065935   \n",
      "2    0.012775  -7.236686 -0.667280 -1.508766 -0.249541  0.012609  0.138702   \n",
      "3   -0.053117  -2.250283  1.176716  0.911971 -0.077596  0.138524  1.523763   \n",
      "4    0.007062  -0.852767 -0.079706 -0.369204 -0.029406  0.032970  0.362671   \n",
      "..        ...        ...       ...       ...       ...       ...       ...   \n",
      "115  0.102867 -11.130130  2.188599  2.608681 -0.383798  0.014921  0.164126   \n",
      "116  0.000000   0.000000  0.000000  0.000000  0.000000  0.000000  0.000000   \n",
      "117  0.000000   0.000000  0.000000  0.000000  0.000000  0.000000  0.000000   \n",
      "118  0.000000   0.000000  0.000000  0.000000  0.000000  0.000000  0.000000   \n",
      "119  0.000000   0.000000  0.000000  0.000000  0.000000  0.000000  0.000000   \n",
      "\n",
      "         1871  \n",
      "0   -0.007706  \n",
      "1    0.059196  \n",
      "2   -0.121408  \n",
      "3    0.039619  \n",
      "4   -0.039737  \n",
      "..        ...  \n",
      "115  0.201797  \n",
      "116  0.000000  \n",
      "117  0.000000  \n",
      "118  0.000000  \n",
      "119  0.000000  \n",
      "\n",
      "[120 rows x 1872 columns]\n"
     ]
    }
   ],
   "source": [
    "X,Y,out = lmafit_mc_adp(len(arr),len(arr[0]),22,known_indices,known_values)\n",
    "\n",
    "complete = np.dot(X,Y)\n",
    "print(pd.DataFrame(complete))"
   ]
  }
 ],
 "metadata": {
  "kernelspec": {
   "display_name": "Python 3",
   "language": "python",
   "name": "python3"
  },
  "language_info": {
   "codemirror_mode": {
    "name": "ipython",
    "version": 3
   },
   "file_extension": ".py",
   "mimetype": "text/x-python",
   "name": "python",
   "nbconvert_exporter": "python",
   "pygments_lexer": "ipython3",
   "version": "3.8.5"
  }
 },
 "nbformat": 4,
 "nbformat_minor": 4
}
